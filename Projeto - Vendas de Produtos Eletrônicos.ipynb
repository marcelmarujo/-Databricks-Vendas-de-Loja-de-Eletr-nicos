{
 "cells": [
  {
   "cell_type": "code",
   "execution_count": 0,
   "metadata": {
    "application/vnd.databricks.v1+cell": {
     "cellMetadata": {
      "byteLimit": 2048000,
      "rowLimit": 10000
     },
     "inputWidgets": {},
     "nuid": "f9d6154b-d648-4150-8fc7-cb33b8d70e9b",
     "showTitle": false,
     "title": ""
    }
   },
   "outputs": [],
   "source": [
    "# Criar um dataset com informações de Vendas de Produtos eletrônicos;\n",
    "# Manipular o dataset de Vendas criado;\n",
    "# Criar um dataset de dimensão com o NOME dos Clientes (Primary Key = cliente_id);\n",
    "# Responder as principais perguntas de negócio com operações de manipulação, agregação, filtragem e mescla de dados"
   ]
  },
  {
   "cell_type": "code",
   "execution_count": 0,
   "metadata": {
    "application/vnd.databricks.v1+cell": {
     "cellMetadata": {
      "byteLimit": 2048000,
      "rowLimit": 10000
     },
     "inputWidgets": {},
     "nuid": "5fec98f3-1915-431e-856a-0a661d90f3c5",
     "showTitle": false,
     "title": ""
    }
   },
   "outputs": [
    {
     "output_type": "display_data",
     "data": {
      "text/html": [
       "<style scoped>\n",
       "  .table-result-container {\n",
       "    max-height: 300px;\n",
       "    overflow: auto;\n",
       "  }\n",
       "  table, th, td {\n",
       "    border: 1px solid black;\n",
       "    border-collapse: collapse;\n",
       "  }\n",
       "  th, td {\n",
       "    padding: 5px;\n",
       "  }\n",
       "  th {\n",
       "    text-align: left;\n",
       "  }\n",
       "</style><div class='table-result-container'><table class='table-result'><thead style='background-color: white'><tr><th>id</th><th>data</th><th>produto</th><th>quantidade</th><th>preco_unitario</th><th>cliente_id</th></tr></thead><tbody><tr><td>1</td><td>2024-07-01</td><td>Celular</td><td>2</td><td>1500.0</td><td>101</td></tr><tr><td>2</td><td>2024-07-02</td><td>Notebook</td><td>1</td><td>2500.0</td><td>102</td></tr><tr><td>3</td><td>2024-07-03</td><td>Tablet</td><td>3</td><td>800.0</td><td>103</td></tr><tr><td>4</td><td>2024-07-04</td><td>Smartwatch</td><td>1</td><td>600.0</td><td>101</td></tr><tr><td>5</td><td>2024-07-05</td><td>Fone de Ouvido</td><td>2</td><td>200.0</td><td>104</td></tr><tr><td>6</td><td>2024-07-06</td><td>Monitor</td><td>1</td><td>1200.0</td><td>102</td></tr><tr><td>7</td><td>2024-07-07</td><td>Smartwatch</td><td>1</td><td>600.0</td><td>101</td></tr><tr><td>8</td><td>2024-07-07</td><td>Fone de Ouvido</td><td>2</td><td>200.0</td><td>104</td></tr><tr><td>9</td><td>2024-07-07</td><td>Monitor</td><td>1</td><td>1200.0</td><td>102</td></tr><tr><td>10</td><td>2024-07-08</td><td>Monitor</td><td>1</td><td>1200.0</td><td>102</td></tr><tr><td>11</td><td>2024-07-07</td><td>Fone de Ouvido</td><td>2</td><td>200.0</td><td>104</td></tr><tr><td>12</td><td>2024-07-01</td><td>Notebook</td><td>1</td><td>2500.0</td><td>101</td></tr></tbody></table></div>"
      ]
     },
     "metadata": {
      "application/vnd.databricks.v1+output": {
       "addedWidgets": {},
       "aggData": [],
       "aggError": "",
       "aggOverflow": false,
       "aggSchema": [],
       "aggSeriesLimitReached": false,
       "aggType": "",
       "arguments": {},
       "columnCustomDisplayInfos": {},
       "data": [
        [
         1,
         "2024-07-01",
         "Celular",
         2,
         1500.0,
         101
        ],
        [
         2,
         "2024-07-02",
         "Notebook",
         1,
         2500.0,
         102
        ],
        [
         3,
         "2024-07-03",
         "Tablet",
         3,
         800.0,
         103
        ],
        [
         4,
         "2024-07-04",
         "Smartwatch",
         1,
         600.0,
         101
        ],
        [
         5,
         "2024-07-05",
         "Fone de Ouvido",
         2,
         200.0,
         104
        ],
        [
         6,
         "2024-07-06",
         "Monitor",
         1,
         1200.0,
         102
        ],
        [
         7,
         "2024-07-07",
         "Smartwatch",
         1,
         600.0,
         101
        ],
        [
         8,
         "2024-07-07",
         "Fone de Ouvido",
         2,
         200.0,
         104
        ],
        [
         9,
         "2024-07-07",
         "Monitor",
         1,
         1200.0,
         102
        ],
        [
         10,
         "2024-07-08",
         "Monitor",
         1,
         1200.0,
         102
        ],
        [
         11,
         "2024-07-07",
         "Fone de Ouvido",
         2,
         200.0,
         104
        ],
        [
         12,
         "2024-07-01",
         "Notebook",
         1,
         2500.0,
         101
        ]
       ],
       "datasetInfos": [],
       "dbfsResultPath": null,
       "isJsonSchema": true,
       "metadata": {},
       "overflow": false,
       "plotOptions": {
        "customPlotOptions": {},
        "displayType": "table",
        "pivotAggregation": null,
        "pivotColumns": null,
        "xColumns": null,
        "yColumns": null
       },
       "removedWidgets": [],
       "schema": [
        {
         "metadata": "{}",
         "name": "id",
         "type": "\"long\""
        },
        {
         "metadata": "{}",
         "name": "data",
         "type": "\"string\""
        },
        {
         "metadata": "{}",
         "name": "produto",
         "type": "\"string\""
        },
        {
         "metadata": "{}",
         "name": "quantidade",
         "type": "\"long\""
        },
        {
         "metadata": "{}",
         "name": "preco_unitario",
         "type": "\"double\""
        },
        {
         "metadata": "{}",
         "name": "cliente_id",
         "type": "\"long\""
        }
       ],
       "type": "table"
      }
     },
     "output_type": "display_data"
    }
   ],
   "source": [
    "# Criando um dataset de VENDAS e renomeando as colunas\n",
    "\n",
    "from pyspark.sql import SparkSession\n",
    "from pyspark.sql.functions import current_date, current_timestamp, date_format, from_utc_timestamp, col, rand, sum, desc, count, max, avg\n",
    "from pyspark.sql.types import StringType\n",
    "import random\n",
    "\n",
    "# Iniciar uma SparkSession\n",
    "spark = SparkSession.builder.appName(\"Exemplo de Dataset\").getOrCreate()\n",
    "\n",
    "# Dados de exemplo\n",
    "Vendas_Loja1 = [\n",
    "    (1, '2024-07-01', 'Celular', 2, 1500.00, 101),\n",
    "    (2, '2024-07-02', 'Notebook', 1, 2500.00, 102),\n",
    "    (3, '2024-07-03', 'Tablet', 3, 800.00, 103),\n",
    "    (4, '2024-07-04', 'Smartwatch', 1, 600.00, 101),\n",
    "    (5, '2024-07-05', 'Fone de Ouvido', 2, 200.00, 104),\n",
    "    (6, '2024-07-06', 'Monitor', 1, 1200.00, 102),\n",
    "    (7, '2024-07-07', 'Smartwatch', 1, 600.00, 101),\n",
    "    (8, '2024-07-07', 'Fone de Ouvido', 2, 200.00, 104),\n",
    "    (9, '2024-07-07', 'Monitor', 1, 1200.00, 102),\n",
    "    (10, '2024-07-08', 'Monitor', 1, 1200.00, 102),\n",
    "    (11, '2024-07-07', 'Fone de Ouvido', 2, 200.00, 104),\n",
    "    (12, '2024-07-01', 'Notebook', 1, 2500.00, 101)\n",
    "]\n",
    "\n",
    "# Colunas do DataFrame\n",
    "columns = [\"id\", \"data\", \"produto\", \"quantidade\", \"preco_unitario\", \"cliente_id\"]\n",
    "\n",
    "# Criar o DataFrame\n",
    "df_Vendas_Loja1 = spark.createDataFrame(Vendas_Loja1, columns)\n",
    "\n",
    "display(df_Vendas_Loja1)"
   ]
  },
  {
   "cell_type": "code",
   "execution_count": 0,
   "metadata": {
    "application/vnd.databricks.v1+cell": {
     "cellMetadata": {
      "byteLimit": 2048000,
      "rowLimit": 10000
     },
     "inputWidgets": {},
     "nuid": "8a90861d-9a7e-4c56-b02e-c6d4bfa6318b",
     "showTitle": false,
     "title": ""
    }
   },
   "outputs": [
    {
     "output_type": "display_data",
     "data": {
      "text/html": [
       "<style scoped>\n",
       "  .table-result-container {\n",
       "    max-height: 300px;\n",
       "    overflow: auto;\n",
       "  }\n",
       "  table, th, td {\n",
       "    border: 1px solid black;\n",
       "    border-collapse: collapse;\n",
       "  }\n",
       "  th, td {\n",
       "    padding: 5px;\n",
       "  }\n",
       "  th {\n",
       "    text-align: left;\n",
       "  }\n",
       "</style><div class='table-result-container'><table class='table-result'><thead style='background-color: white'><tr><th>id</th><th>data</th><th>produto</th><th>quantidade</th><th>preco_unitario</th><th>cliente_id</th><th>preco_total</th></tr></thead><tbody><tr><td>1</td><td>2024-07-01</td><td>Celular</td><td>2</td><td>1500.0</td><td>101</td><td>3000.0</td></tr><tr><td>2</td><td>2024-07-02</td><td>Notebook</td><td>1</td><td>2500.0</td><td>102</td><td>2500.0</td></tr><tr><td>3</td><td>2024-07-03</td><td>Tablet</td><td>3</td><td>800.0</td><td>103</td><td>2400.0</td></tr><tr><td>4</td><td>2024-07-04</td><td>Smartwatch</td><td>1</td><td>600.0</td><td>101</td><td>600.0</td></tr><tr><td>5</td><td>2024-07-05</td><td>Fone de Ouvido</td><td>2</td><td>200.0</td><td>104</td><td>400.0</td></tr><tr><td>6</td><td>2024-07-06</td><td>Monitor</td><td>1</td><td>1200.0</td><td>102</td><td>1200.0</td></tr><tr><td>7</td><td>2024-07-07</td><td>Smartwatch</td><td>1</td><td>600.0</td><td>101</td><td>600.0</td></tr><tr><td>8</td><td>2024-07-07</td><td>Fone de Ouvido</td><td>2</td><td>200.0</td><td>104</td><td>400.0</td></tr><tr><td>9</td><td>2024-07-07</td><td>Monitor</td><td>1</td><td>1200.0</td><td>102</td><td>1200.0</td></tr><tr><td>10</td><td>2024-07-08</td><td>Monitor</td><td>1</td><td>1200.0</td><td>102</td><td>1200.0</td></tr><tr><td>11</td><td>2024-07-07</td><td>Fone de Ouvido</td><td>2</td><td>200.0</td><td>104</td><td>400.0</td></tr><tr><td>12</td><td>2024-07-01</td><td>Notebook</td><td>1</td><td>2500.0</td><td>101</td><td>2500.0</td></tr></tbody></table></div>"
      ]
     },
     "metadata": {
      "application/vnd.databricks.v1+output": {
       "addedWidgets": {},
       "aggData": [],
       "aggError": "",
       "aggOverflow": false,
       "aggSchema": [],
       "aggSeriesLimitReached": false,
       "aggType": "",
       "arguments": {},
       "columnCustomDisplayInfos": {},
       "data": [
        [
         1,
         "2024-07-01",
         "Celular",
         2,
         1500.0,
         101,
         3000.0
        ],
        [
         2,
         "2024-07-02",
         "Notebook",
         1,
         2500.0,
         102,
         2500.0
        ],
        [
         3,
         "2024-07-03",
         "Tablet",
         3,
         800.0,
         103,
         2400.0
        ],
        [
         4,
         "2024-07-04",
         "Smartwatch",
         1,
         600.0,
         101,
         600.0
        ],
        [
         5,
         "2024-07-05",
         "Fone de Ouvido",
         2,
         200.0,
         104,
         400.0
        ],
        [
         6,
         "2024-07-06",
         "Monitor",
         1,
         1200.0,
         102,
         1200.0
        ],
        [
         7,
         "2024-07-07",
         "Smartwatch",
         1,
         600.0,
         101,
         600.0
        ],
        [
         8,
         "2024-07-07",
         "Fone de Ouvido",
         2,
         200.0,
         104,
         400.0
        ],
        [
         9,
         "2024-07-07",
         "Monitor",
         1,
         1200.0,
         102,
         1200.0
        ],
        [
         10,
         "2024-07-08",
         "Monitor",
         1,
         1200.0,
         102,
         1200.0
        ],
        [
         11,
         "2024-07-07",
         "Fone de Ouvido",
         2,
         200.0,
         104,
         400.0
        ],
        [
         12,
         "2024-07-01",
         "Notebook",
         1,
         2500.0,
         101,
         2500.0
        ]
       ],
       "datasetInfos": [],
       "dbfsResultPath": null,
       "isJsonSchema": true,
       "metadata": {},
       "overflow": false,
       "plotOptions": {
        "customPlotOptions": {},
        "displayType": "table",
        "pivotAggregation": null,
        "pivotColumns": null,
        "xColumns": null,
        "yColumns": null
       },
       "removedWidgets": [],
       "schema": [
        {
         "metadata": "{}",
         "name": "id",
         "type": "\"long\""
        },
        {
         "metadata": "{}",
         "name": "data",
         "type": "\"string\""
        },
        {
         "metadata": "{}",
         "name": "produto",
         "type": "\"string\""
        },
        {
         "metadata": "{}",
         "name": "quantidade",
         "type": "\"long\""
        },
        {
         "metadata": "{}",
         "name": "preco_unitario",
         "type": "\"double\""
        },
        {
         "metadata": "{}",
         "name": "cliente_id",
         "type": "\"long\""
        },
        {
         "metadata": "{}",
         "name": "preco_total",
         "type": "\"double\""
        }
       ],
       "type": "table"
      }
     },
     "output_type": "display_data"
    }
   ],
   "source": [
    "# Adicionar coluna de preço total da transação\n",
    "df_Vendas_Loja1 = df_Vendas_Loja1.withColumn(\"preco_total\", col(\"quantidade\") * col(\"preco_unitario\"))\n",
    "\n",
    "df_Vendas_Loja1.display()"
   ]
  },
  {
   "cell_type": "code",
   "execution_count": 0,
   "metadata": {
    "application/vnd.databricks.v1+cell": {
     "cellMetadata": {
      "byteLimit": 2048000,
      "rowLimit": 10000
     },
     "inputWidgets": {},
     "nuid": "0049ee87-cf4b-4bae-b215-62a223bfff54",
     "showTitle": false,
     "title": ""
    }
   },
   "outputs": [
    {
     "output_type": "display_data",
     "data": {
      "text/html": [
       "<style scoped>\n",
       "  .table-result-container {\n",
       "    max-height: 300px;\n",
       "    overflow: auto;\n",
       "  }\n",
       "  table, th, td {\n",
       "    border: 1px solid black;\n",
       "    border-collapse: collapse;\n",
       "  }\n",
       "  th, td {\n",
       "    padding: 5px;\n",
       "  }\n",
       "  th {\n",
       "    text-align: left;\n",
       "  }\n",
       "</style><div class='table-result-container'><table class='table-result'><thead style='background-color: white'><tr><th>id</th><th>data</th><th>produto</th><th>quantidade</th><th>preco_unitario</th><th>cliente_id</th><th>preco_total</th><th>País_cliente</th></tr></thead><tbody><tr><td>1</td><td>2024-07-01</td><td>Celular</td><td>2</td><td>1500.0</td><td>101</td><td>3000.0</td><td>Reino Unido</td></tr><tr><td>2</td><td>2024-07-02</td><td>Notebook</td><td>1</td><td>2500.0</td><td>102</td><td>2500.0</td><td>Brasil</td></tr><tr><td>3</td><td>2024-07-03</td><td>Tablet</td><td>3</td><td>800.0</td><td>103</td><td>2400.0</td><td>Alemanha</td></tr><tr><td>4</td><td>2024-07-04</td><td>Smartwatch</td><td>1</td><td>600.0</td><td>101</td><td>600.0</td><td>China</td></tr><tr><td>5</td><td>2024-07-05</td><td>Fone de Ouvido</td><td>2</td><td>200.0</td><td>104</td><td>400.0</td><td>Estados Unidos</td></tr><tr><td>6</td><td>2024-07-06</td><td>Monitor</td><td>1</td><td>1200.0</td><td>102</td><td>1200.0</td><td>Reino Unido</td></tr><tr><td>7</td><td>2024-07-07</td><td>Smartwatch</td><td>1</td><td>600.0</td><td>101</td><td>600.0</td><td>Estados Unidos</td></tr><tr><td>8</td><td>2024-07-07</td><td>Fone de Ouvido</td><td>2</td><td>200.0</td><td>104</td><td>400.0</td><td>Alemanha</td></tr><tr><td>9</td><td>2024-07-07</td><td>Monitor</td><td>1</td><td>1200.0</td><td>102</td><td>1200.0</td><td>Japão</td></tr><tr><td>10</td><td>2024-07-08</td><td>Monitor</td><td>1</td><td>1200.0</td><td>102</td><td>1200.0</td><td>Alemanha</td></tr><tr><td>11</td><td>2024-07-07</td><td>Fone de Ouvido</td><td>2</td><td>200.0</td><td>104</td><td>400.0</td><td>Japão</td></tr><tr><td>12</td><td>2024-07-01</td><td>Notebook</td><td>1</td><td>2500.0</td><td>101</td><td>2500.0</td><td>Japão</td></tr></tbody></table></div>"
      ]
     },
     "metadata": {
      "application/vnd.databricks.v1+output": {
       "addedWidgets": {},
       "aggData": [],
       "aggError": "",
       "aggOverflow": false,
       "aggSchema": [],
       "aggSeriesLimitReached": false,
       "aggType": "",
       "arguments": {},
       "columnCustomDisplayInfos": {},
       "data": [
        [
         1,
         "2024-07-01",
         "Celular",
         2,
         1500.0,
         101,
         3000.0,
         "Reino Unido"
        ],
        [
         2,
         "2024-07-02",
         "Notebook",
         1,
         2500.0,
         102,
         2500.0,
         "Brasil"
        ],
        [
         3,
         "2024-07-03",
         "Tablet",
         3,
         800.0,
         103,
         2400.0,
         "Alemanha"
        ],
        [
         4,
         "2024-07-04",
         "Smartwatch",
         1,
         600.0,
         101,
         600.0,
         "China"
        ],
        [
         5,
         "2024-07-05",
         "Fone de Ouvido",
         2,
         200.0,
         104,
         400.0,
         "Estados Unidos"
        ],
        [
         6,
         "2024-07-06",
         "Monitor",
         1,
         1200.0,
         102,
         1200.0,
         "Reino Unido"
        ],
        [
         7,
         "2024-07-07",
         "Smartwatch",
         1,
         600.0,
         101,
         600.0,
         "Estados Unidos"
        ],
        [
         8,
         "2024-07-07",
         "Fone de Ouvido",
         2,
         200.0,
         104,
         400.0,
         "Alemanha"
        ],
        [
         9,
         "2024-07-07",
         "Monitor",
         1,
         1200.0,
         102,
         1200.0,
         "Japão"
        ],
        [
         10,
         "2024-07-08",
         "Monitor",
         1,
         1200.0,
         102,
         1200.0,
         "Alemanha"
        ],
        [
         11,
         "2024-07-07",
         "Fone de Ouvido",
         2,
         200.0,
         104,
         400.0,
         "Japão"
        ],
        [
         12,
         "2024-07-01",
         "Notebook",
         1,
         2500.0,
         101,
         2500.0,
         "Japão"
        ]
       ],
       "datasetInfos": [],
       "dbfsResultPath": null,
       "isJsonSchema": true,
       "metadata": {},
       "overflow": false,
       "plotOptions": {
        "customPlotOptions": {},
        "displayType": "table",
        "pivotAggregation": null,
        "pivotColumns": null,
        "xColumns": null,
        "yColumns": null
       },
       "removedWidgets": [],
       "schema": [
        {
         "metadata": "{}",
         "name": "id",
         "type": "\"long\""
        },
        {
         "metadata": "{}",
         "name": "data",
         "type": "\"string\""
        },
        {
         "metadata": "{}",
         "name": "produto",
         "type": "\"string\""
        },
        {
         "metadata": "{}",
         "name": "quantidade",
         "type": "\"long\""
        },
        {
         "metadata": "{}",
         "name": "preco_unitario",
         "type": "\"double\""
        },
        {
         "metadata": "{}",
         "name": "cliente_id",
         "type": "\"long\""
        },
        {
         "metadata": "{}",
         "name": "preco_total",
         "type": "\"double\""
        },
        {
         "metadata": "{}",
         "name": "País_cliente",
         "type": "\"string\""
        }
       ],
       "type": "table"
      }
     },
     "output_type": "display_data"
    }
   ],
   "source": [
    "# Lista de países\n",
    "countries = [\"Brasil\", \"Estados Unidos\", \"Alemanha\", \"China\", \"Japão\", \"França\", \"Reino Unido\"]\n",
    "\n",
    "# Função UDF para selecionar aleatoriamente um país da lista\n",
    "def random_country():\n",
    "    return random.choice(countries)\n",
    "\n",
    "# Registrar a função UDF\n",
    "udf_random_country = udf(random_country, StringType())\n",
    "\n",
    "# Adicionar a coluna com nomes de países aleatórios\n",
    "df_Vendas_Loja1 = df_Vendas_Loja1.withColumn(\"País_cliente\", udf_random_country())\n",
    "\n",
    "display(df_Vendas_Loja1)"
   ]
  },
  {
   "cell_type": "code",
   "execution_count": 0,
   "metadata": {
    "application/vnd.databricks.v1+cell": {
     "cellMetadata": {
      "byteLimit": 2048000,
      "rowLimit": 10000
     },
     "inputWidgets": {},
     "nuid": "46737a65-5211-4f02-91e3-115676b80a3a",
     "showTitle": false,
     "title": ""
    }
   },
   "outputs": [
    {
     "output_type": "display_data",
     "data": {
      "text/html": [
       "<style scoped>\n",
       "  .table-result-container {\n",
       "    max-height: 300px;\n",
       "    overflow: auto;\n",
       "  }\n",
       "  table, th, td {\n",
       "    border: 1px solid black;\n",
       "    border-collapse: collapse;\n",
       "  }\n",
       "  th, td {\n",
       "    padding: 5px;\n",
       "  }\n",
       "  th {\n",
       "    text-align: left;\n",
       "  }\n",
       "</style><div class='table-result-container'><table class='table-result'><thead style='background-color: white'><tr><th>id</th><th>data</th><th>produto</th><th>quantidade</th><th>preco_unitario</th><th>cliente_id</th><th>preco_total</th><th>País_cliente</th><th>Atualizacao</th></tr></thead><tbody><tr><td>1</td><td>2024-07-01</td><td>Celular</td><td>2</td><td>1500.0</td><td>101</td><td>3000.0</td><td>Brasil</td><td>2024-07-13 12: 49: 16</td></tr><tr><td>2</td><td>2024-07-02</td><td>Notebook</td><td>1</td><td>2500.0</td><td>102</td><td>2500.0</td><td>Alemanha</td><td>2024-07-13 12: 49: 16</td></tr><tr><td>3</td><td>2024-07-03</td><td>Tablet</td><td>3</td><td>800.0</td><td>103</td><td>2400.0</td><td>Reino Unido</td><td>2024-07-13 12: 49: 16</td></tr><tr><td>4</td><td>2024-07-04</td><td>Smartwatch</td><td>1</td><td>600.0</td><td>101</td><td>600.0</td><td>Brasil</td><td>2024-07-13 12: 49: 16</td></tr><tr><td>5</td><td>2024-07-05</td><td>Fone de Ouvido</td><td>2</td><td>200.0</td><td>104</td><td>400.0</td><td>Estados Unidos</td><td>2024-07-13 12: 49: 16</td></tr><tr><td>6</td><td>2024-07-06</td><td>Monitor</td><td>1</td><td>1200.0</td><td>102</td><td>1200.0</td><td>Estados Unidos</td><td>2024-07-13 12: 49: 16</td></tr><tr><td>7</td><td>2024-07-07</td><td>Smartwatch</td><td>1</td><td>600.0</td><td>101</td><td>600.0</td><td>Estados Unidos</td><td>2024-07-13 12: 49: 16</td></tr><tr><td>8</td><td>2024-07-07</td><td>Fone de Ouvido</td><td>2</td><td>200.0</td><td>104</td><td>400.0</td><td>Reino Unido</td><td>2024-07-13 12: 49: 16</td></tr><tr><td>9</td><td>2024-07-07</td><td>Monitor</td><td>1</td><td>1200.0</td><td>102</td><td>1200.0</td><td>Reino Unido</td><td>2024-07-13 12: 49: 16</td></tr><tr><td>10</td><td>2024-07-08</td><td>Monitor</td><td>1</td><td>1200.0</td><td>102</td><td>1200.0</td><td>França</td><td>2024-07-13 12: 49: 16</td></tr><tr><td>11</td><td>2024-07-07</td><td>Fone de Ouvido</td><td>2</td><td>200.0</td><td>104</td><td>400.0</td><td>França</td><td>2024-07-13 12: 49: 16</td></tr><tr><td>12</td><td>2024-07-01</td><td>Notebook</td><td>1</td><td>2500.0</td><td>101</td><td>2500.0</td><td>Alemanha</td><td>2024-07-13 12: 49: 16</td></tr></tbody></table></div>"
      ]
     },
     "metadata": {
      "application/vnd.databricks.v1+output": {
       "addedWidgets": {},
       "aggData": [],
       "aggError": "",
       "aggOverflow": false,
       "aggSchema": [],
       "aggSeriesLimitReached": false,
       "aggType": "",
       "arguments": {},
       "columnCustomDisplayInfos": {},
       "data": [
        [
         1,
         "2024-07-01",
         "Celular",
         2,
         1500.0,
         101,
         3000.0,
         "Brasil",
         "2024-07-13 12: 49: 16"
        ],
        [
         2,
         "2024-07-02",
         "Notebook",
         1,
         2500.0,
         102,
         2500.0,
         "Alemanha",
         "2024-07-13 12: 49: 16"
        ],
        [
         3,
         "2024-07-03",
         "Tablet",
         3,
         800.0,
         103,
         2400.0,
         "Reino Unido",
         "2024-07-13 12: 49: 16"
        ],
        [
         4,
         "2024-07-04",
         "Smartwatch",
         1,
         600.0,
         101,
         600.0,
         "Brasil",
         "2024-07-13 12: 49: 16"
        ],
        [
         5,
         "2024-07-05",
         "Fone de Ouvido",
         2,
         200.0,
         104,
         400.0,
         "Estados Unidos",
         "2024-07-13 12: 49: 16"
        ],
        [
         6,
         "2024-07-06",
         "Monitor",
         1,
         1200.0,
         102,
         1200.0,
         "Estados Unidos",
         "2024-07-13 12: 49: 16"
        ],
        [
         7,
         "2024-07-07",
         "Smartwatch",
         1,
         600.0,
         101,
         600.0,
         "Estados Unidos",
         "2024-07-13 12: 49: 16"
        ],
        [
         8,
         "2024-07-07",
         "Fone de Ouvido",
         2,
         200.0,
         104,
         400.0,
         "Reino Unido",
         "2024-07-13 12: 49: 16"
        ],
        [
         9,
         "2024-07-07",
         "Monitor",
         1,
         1200.0,
         102,
         1200.0,
         "Reino Unido",
         "2024-07-13 12: 49: 16"
        ],
        [
         10,
         "2024-07-08",
         "Monitor",
         1,
         1200.0,
         102,
         1200.0,
         "França",
         "2024-07-13 12: 49: 16"
        ],
        [
         11,
         "2024-07-07",
         "Fone de Ouvido",
         2,
         200.0,
         104,
         400.0,
         "França",
         "2024-07-13 12: 49: 16"
        ],
        [
         12,
         "2024-07-01",
         "Notebook",
         1,
         2500.0,
         101,
         2500.0,
         "Alemanha",
         "2024-07-13 12: 49: 16"
        ]
       ],
       "datasetInfos": [],
       "dbfsResultPath": null,
       "isJsonSchema": true,
       "metadata": {},
       "overflow": false,
       "plotOptions": {
        "customPlotOptions": {},
        "displayType": "table",
        "pivotAggregation": null,
        "pivotColumns": null,
        "xColumns": null,
        "yColumns": null
       },
       "removedWidgets": [],
       "schema": [
        {
         "metadata": "{}",
         "name": "id",
         "type": "\"long\""
        },
        {
         "metadata": "{}",
         "name": "data",
         "type": "\"string\""
        },
        {
         "metadata": "{}",
         "name": "produto",
         "type": "\"string\""
        },
        {
         "metadata": "{}",
         "name": "quantidade",
         "type": "\"long\""
        },
        {
         "metadata": "{}",
         "name": "preco_unitario",
         "type": "\"double\""
        },
        {
         "metadata": "{}",
         "name": "cliente_id",
         "type": "\"long\""
        },
        {
         "metadata": "{}",
         "name": "preco_total",
         "type": "\"double\""
        },
        {
         "metadata": "{}",
         "name": "País_cliente",
         "type": "\"string\""
        },
        {
         "metadata": "{}",
         "name": "Atualizacao",
         "type": "\"string\""
        }
       ],
       "type": "table"
      }
     },
     "output_type": "display_data"
    }
   ],
   "source": [
    "# 5 inserir coluna com nome de atualização para usuario ver quando os dados foram atualizados\n",
    "\n",
    "# from pyspark.sql. functions import current_timestamp, date_format, from_utc_timestamp\n",
    "df_Vendas_Loja1 = df_Vendas_Loja1.withColumn (\"Atualizacao\",    \n",
    "                  date_format(from_utc_timestamp(current_timestamp(), \"America/Sao_Paulo\"), \"yyyy-MM-dd HH: mm: ss\"))\n",
    "\n",
    "display(df_Vendas_Loja1)"
   ]
  },
  {
   "cell_type": "code",
   "execution_count": 0,
   "metadata": {
    "application/vnd.databricks.v1+cell": {
     "cellMetadata": {
      "byteLimit": 2048000,
      "implicitDf": true,
      "rowLimit": 10000
     },
     "inputWidgets": {},
     "nuid": "634c1d82-2a2f-4b52-b57b-9daaaa0445e7",
     "showTitle": false,
     "title": ""
    }
   },
   "outputs": [
    {
     "output_type": "display_data",
     "data": {
      "text/html": [
       "<style scoped>\n",
       "  .table-result-container {\n",
       "    max-height: 300px;\n",
       "    overflow: auto;\n",
       "  }\n",
       "  table, th, td {\n",
       "    border: 1px solid black;\n",
       "    border-collapse: collapse;\n",
       "  }\n",
       "  th, td {\n",
       "    padding: 5px;\n",
       "  }\n",
       "  th {\n",
       "    text-align: left;\n",
       "  }\n",
       "</style><div class='table-result-container'><table class='table-result'><thead style='background-color: white'><tr></tr></thead><tbody></tbody></table></div>"
      ]
     },
     "metadata": {
      "application/vnd.databricks.v1+output": {
       "addedWidgets": {},
       "aggData": [],
       "aggError": "",
       "aggOverflow": false,
       "aggSchema": [],
       "aggSeriesLimitReached": false,
       "aggType": "",
       "arguments": {},
       "columnCustomDisplayInfos": {},
       "data": [],
       "datasetInfos": [],
       "dbfsResultPath": null,
       "isJsonSchema": true,
       "metadata": {},
       "overflow": false,
       "plotOptions": {
        "customPlotOptions": {},
        "displayType": "table",
        "pivotAggregation": null,
        "pivotColumns": null,
        "xColumns": null,
        "yColumns": null
       },
       "removedWidgets": [],
       "schema": [],
       "type": "table"
      }
     },
     "output_type": "display_data"
    }
   ],
   "source": [
    "%sql\n",
    "CREATE DATABASE IF NOT EXISTS BD_ELETRONICOS_VENDAS;"
   ]
  },
  {
   "cell_type": "code",
   "execution_count": 0,
   "metadata": {
    "application/vnd.databricks.v1+cell": {
     "cellMetadata": {
      "byteLimit": 2048000,
      "rowLimit": 10000
     },
     "inputWidgets": {},
     "nuid": "34247a38-2f7c-40ae-8d3e-5bd376be8ef3",
     "showTitle": false,
     "title": ""
    }
   },
   "outputs": [],
   "source": [
    "# Salvando a tabela para poder manipular no SQL\n",
    "df_Vendas_Loja1.write.mode(\"overwrite\").saveAsTable(\"BD_ELETRONICOS_VENDAS.Vendas_Eletronicos_Loja1\")"
   ]
  },
  {
   "cell_type": "code",
   "execution_count": 0,
   "metadata": {
    "application/vnd.databricks.v1+cell": {
     "cellMetadata": {
      "byteLimit": 2048000,
      "implicitDf": true,
      "rowLimit": 10000
     },
     "inputWidgets": {},
     "nuid": "131a69ff-ae73-4cf1-9c38-fd33ba719a46",
     "showTitle": false,
     "title": ""
    }
   },
   "outputs": [
    {
     "output_type": "display_data",
     "data": {
      "text/html": [
       "<style scoped>\n",
       "  .table-result-container {\n",
       "    max-height: 300px;\n",
       "    overflow: auto;\n",
       "  }\n",
       "  table, th, td {\n",
       "    border: 1px solid black;\n",
       "    border-collapse: collapse;\n",
       "  }\n",
       "  th, td {\n",
       "    padding: 5px;\n",
       "  }\n",
       "  th {\n",
       "    text-align: left;\n",
       "  }\n",
       "</style><div class='table-result-container'><table class='table-result'><thead style='background-color: white'><tr><th>col_name</th><th>data_type</th><th>comment</th></tr></thead><tbody><tr><td>id</td><td>bigint</td><td>null</td></tr><tr><td>data</td><td>string</td><td>null</td></tr><tr><td>produto</td><td>string</td><td>null</td></tr><tr><td>quantidade</td><td>bigint</td><td>null</td></tr><tr><td>preco_unitario</td><td>double</td><td>null</td></tr><tr><td>cliente_id</td><td>bigint</td><td>null</td></tr><tr><td>preco_total</td><td>double</td><td>null</td></tr><tr><td>País_cliente</td><td>string</td><td>null</td></tr><tr><td>Atualizacao</td><td>string</td><td>null</td></tr></tbody></table></div>"
      ]
     },
     "metadata": {
      "application/vnd.databricks.v1+output": {
       "addedWidgets": {},
       "aggData": [],
       "aggError": "",
       "aggOverflow": false,
       "aggSchema": [],
       "aggSeriesLimitReached": false,
       "aggType": "",
       "arguments": {},
       "columnCustomDisplayInfos": {},
       "data": [
        [
         "id",
         "bigint",
         null
        ],
        [
         "data",
         "string",
         null
        ],
        [
         "produto",
         "string",
         null
        ],
        [
         "quantidade",
         "bigint",
         null
        ],
        [
         "preco_unitario",
         "double",
         null
        ],
        [
         "cliente_id",
         "bigint",
         null
        ],
        [
         "preco_total",
         "double",
         null
        ],
        [
         "País_cliente",
         "string",
         null
        ],
        [
         "Atualizacao",
         "string",
         null
        ]
       ],
       "datasetInfos": [],
       "dbfsResultPath": null,
       "isJsonSchema": true,
       "metadata": {},
       "overflow": false,
       "plotOptions": {
        "customPlotOptions": {},
        "displayType": "table",
        "pivotAggregation": null,
        "pivotColumns": null,
        "xColumns": null,
        "yColumns": null
       },
       "removedWidgets": [],
       "schema": [
        {
         "metadata": "{\"comment\":\"name of the column\"}",
         "name": "col_name",
         "type": "\"string\""
        },
        {
         "metadata": "{\"comment\":\"data type of the column\"}",
         "name": "data_type",
         "type": "\"string\""
        },
        {
         "metadata": "{\"comment\":\"comment of the column\"}",
         "name": "comment",
         "type": "\"string\""
        }
       ],
       "type": "table"
      }
     },
     "output_type": "display_data"
    }
   ],
   "source": [
    "%sql\n",
    "DESCRIBE TABLE BD_ELETRONICOS_VENDAS.Vendas_Eletronicos_Loja1;\n"
   ]
  },
  {
   "cell_type": "code",
   "execution_count": 0,
   "metadata": {
    "application/vnd.databricks.v1+cell": {
     "cellMetadata": {
      "byteLimit": 2048000,
      "implicitDf": true,
      "rowLimit": 10000
     },
     "inputWidgets": {},
     "nuid": "6acb2858-fff1-4b89-9d6a-ae9dd28f1796",
     "showTitle": false,
     "title": ""
    }
   },
   "outputs": [
    {
     "output_type": "display_data",
     "data": {
      "text/html": [
       "<style scoped>\n",
       "  .table-result-container {\n",
       "    max-height: 300px;\n",
       "    overflow: auto;\n",
       "  }\n",
       "  table, th, td {\n",
       "    border: 1px solid black;\n",
       "    border-collapse: collapse;\n",
       "  }\n",
       "  th, td {\n",
       "    padding: 5px;\n",
       "  }\n",
       "  th {\n",
       "    text-align: left;\n",
       "  }\n",
       "</style><div class='table-result-container'><table class='table-result'><thead style='background-color: white'><tr><th>id</th><th>data</th><th>produto</th><th>quantidade</th><th>preco_unitario</th><th>cliente_id</th><th>preco_total</th><th>País_cliente</th><th>Atualizacao</th></tr></thead><tbody><tr><td>8</td><td>2024-07-07</td><td>Fone de Ouvido</td><td>2</td><td>200.0</td><td>104</td><td>400.0</td><td>Reino Unido</td><td>2024-07-13 12: 49: 18</td></tr><tr><td>9</td><td>2024-07-07</td><td>Monitor</td><td>1</td><td>1200.0</td><td>102</td><td>1200.0</td><td>Brasil</td><td>2024-07-13 12: 49: 18</td></tr><tr><td>5</td><td>2024-07-05</td><td>Fone de Ouvido</td><td>2</td><td>200.0</td><td>104</td><td>400.0</td><td>Brasil</td><td>2024-07-13 12: 49: 18</td></tr><tr><td>6</td><td>2024-07-06</td><td>Monitor</td><td>1</td><td>1200.0</td><td>102</td><td>1200.0</td><td>Reino Unido</td><td>2024-07-13 12: 49: 18</td></tr><tr><td>2</td><td>2024-07-02</td><td>Notebook</td><td>1</td><td>2500.0</td><td>102</td><td>2500.0</td><td>Estados Unidos</td><td>2024-07-13 12: 49: 18</td></tr><tr><td>3</td><td>2024-07-03</td><td>Tablet</td><td>3</td><td>800.0</td><td>103</td><td>2400.0</td><td>França</td><td>2024-07-13 12: 49: 18</td></tr><tr><td>11</td><td>2024-07-07</td><td>Fone de Ouvido</td><td>2</td><td>200.0</td><td>104</td><td>400.0</td><td>França</td><td>2024-07-13 12: 49: 18</td></tr><tr><td>12</td><td>2024-07-01</td><td>Notebook</td><td>1</td><td>2500.0</td><td>101</td><td>2500.0</td><td>China</td><td>2024-07-13 12: 49: 18</td></tr><tr><td>10</td><td>2024-07-08</td><td>Monitor</td><td>1</td><td>1200.0</td><td>102</td><td>1200.0</td><td>Estados Unidos</td><td>2024-07-13 12: 49: 18</td></tr><tr><td>4</td><td>2024-07-04</td><td>Smartwatch</td><td>1</td><td>600.0</td><td>101</td><td>600.0</td><td>Brasil</td><td>2024-07-13 12: 49: 18</td></tr><tr><td>7</td><td>2024-07-07</td><td>Smartwatch</td><td>1</td><td>600.0</td><td>101</td><td>600.0</td><td>China</td><td>2024-07-13 12: 49: 18</td></tr><tr><td>1</td><td>2024-07-01</td><td>Celular</td><td>2</td><td>1500.0</td><td>101</td><td>3000.0</td><td>Alemanha</td><td>2024-07-13 12: 49: 18</td></tr></tbody></table></div>"
      ]
     },
     "metadata": {
      "application/vnd.databricks.v1+output": {
       "addedWidgets": {},
       "aggData": [],
       "aggError": "",
       "aggOverflow": false,
       "aggSchema": [],
       "aggSeriesLimitReached": false,
       "aggType": "",
       "arguments": {},
       "columnCustomDisplayInfos": {},
       "data": [
        [
         8,
         "2024-07-07",
         "Fone de Ouvido",
         2,
         200.0,
         104,
         400.0,
         "Reino Unido",
         "2024-07-13 12: 49: 18"
        ],
        [
         9,
         "2024-07-07",
         "Monitor",
         1,
         1200.0,
         102,
         1200.0,
         "Brasil",
         "2024-07-13 12: 49: 18"
        ],
        [
         5,
         "2024-07-05",
         "Fone de Ouvido",
         2,
         200.0,
         104,
         400.0,
         "Brasil",
         "2024-07-13 12: 49: 18"
        ],
        [
         6,
         "2024-07-06",
         "Monitor",
         1,
         1200.0,
         102,
         1200.0,
         "Reino Unido",
         "2024-07-13 12: 49: 18"
        ],
        [
         2,
         "2024-07-02",
         "Notebook",
         1,
         2500.0,
         102,
         2500.0,
         "Estados Unidos",
         "2024-07-13 12: 49: 18"
        ],
        [
         3,
         "2024-07-03",
         "Tablet",
         3,
         800.0,
         103,
         2400.0,
         "França",
         "2024-07-13 12: 49: 18"
        ],
        [
         11,
         "2024-07-07",
         "Fone de Ouvido",
         2,
         200.0,
         104,
         400.0,
         "França",
         "2024-07-13 12: 49: 18"
        ],
        [
         12,
         "2024-07-01",
         "Notebook",
         1,
         2500.0,
         101,
         2500.0,
         "China",
         "2024-07-13 12: 49: 18"
        ],
        [
         10,
         "2024-07-08",
         "Monitor",
         1,
         1200.0,
         102,
         1200.0,
         "Estados Unidos",
         "2024-07-13 12: 49: 18"
        ],
        [
         4,
         "2024-07-04",
         "Smartwatch",
         1,
         600.0,
         101,
         600.0,
         "Brasil",
         "2024-07-13 12: 49: 18"
        ],
        [
         7,
         "2024-07-07",
         "Smartwatch",
         1,
         600.0,
         101,
         600.0,
         "China",
         "2024-07-13 12: 49: 18"
        ],
        [
         1,
         "2024-07-01",
         "Celular",
         2,
         1500.0,
         101,
         3000.0,
         "Alemanha",
         "2024-07-13 12: 49: 18"
        ]
       ],
       "datasetInfos": [],
       "dbfsResultPath": null,
       "isJsonSchema": true,
       "metadata": {},
       "overflow": false,
       "plotOptions": {
        "customPlotOptions": {},
        "displayType": "table",
        "pivotAggregation": null,
        "pivotColumns": null,
        "xColumns": null,
        "yColumns": null
       },
       "removedWidgets": [],
       "schema": [
        {
         "metadata": "{}",
         "name": "id",
         "type": "\"long\""
        },
        {
         "metadata": "{}",
         "name": "data",
         "type": "\"string\""
        },
        {
         "metadata": "{}",
         "name": "produto",
         "type": "\"string\""
        },
        {
         "metadata": "{}",
         "name": "quantidade",
         "type": "\"long\""
        },
        {
         "metadata": "{}",
         "name": "preco_unitario",
         "type": "\"double\""
        },
        {
         "metadata": "{}",
         "name": "cliente_id",
         "type": "\"long\""
        },
        {
         "metadata": "{}",
         "name": "preco_total",
         "type": "\"double\""
        },
        {
         "metadata": "{}",
         "name": "País_cliente",
         "type": "\"string\""
        },
        {
         "metadata": "{}",
         "name": "Atualizacao",
         "type": "\"string\""
        }
       ],
       "type": "table"
      }
     },
     "output_type": "display_data"
    }
   ],
   "source": [
    "%sql\n",
    "\n",
    "SELECT * FROM BD_ELETRONICOS_VENDAS.Vendas_Eletronicos_Loja1;"
   ]
  },
  {
   "cell_type": "code",
   "execution_count": 0,
   "metadata": {
    "application/vnd.databricks.v1+cell": {
     "cellMetadata": {
      "byteLimit": 2048000,
      "rowLimit": 10000
     },
     "inputWidgets": {},
     "nuid": "c0851a67-5097-47bd-8c46-5ffbeb32aa93",
     "showTitle": false,
     "title": ""
    }
   },
   "outputs": [
    {
     "output_type": "stream",
     "name": "stdout",
     "output_type": "stream",
     "text": [
      "+----------+------------+\n|cliente_id|nome_cliente|\n+----------+------------+\n|       101|       Alice|\n|       102|         Bob|\n|       103|       Carol|\n|       104|       David|\n+----------+------------+\n\n"
     ]
    }
   ],
   "source": [
    "# Criando tabela de 'dimensão':CLIENTES para obter o nome dos Clientes\n",
    "\n",
    "# Lista de nomes para os clientes\n",
    "nomes = [\"Alice\", \"Bob\", \"Carol\", \"David\"]\n",
    "\n",
    "# Lista de IDs de clientes\n",
    "ids = list(range(101, 105))\n",
    "\n",
    "# Garantindo que cada ID receba um nome único\n",
    "clientes = list(zip(ids, nomes))\n",
    "\n",
    "# Criando um DataFrame com os dados dos clientes\n",
    "df_clientes = spark.createDataFrame(clientes, [\"cliente_id\", \"nome_cliente\"])\n",
    "\n",
    "# Selecionando apenas as colunas desejadas\n",
    "df_clientes = df_clientes.select(\"cliente_id\", \"nome_cliente\")\n",
    "\n",
    "# Exibindo o DataFrame para verificação\n",
    "df_clientes.show()\n",
    "\n",
    "# Remover a tabela existente para evitar conflitos de esquema\n",
    "spark.sql(\"DROP TABLE IF EXISTS BD_ELETRONICOS_VENDAS.CLIENTES\")\n",
    "\n",
    "# Salvando a tabela para poder manipular no SQL, sobrescrevendo completamente a tabela original\n",
    "df_clientes.write.option(\"mergeSchema\", \"true\").mode(\"overwrite\").saveAsTable(\"BD_ELETRONICOS_VENDAS.CLIENTES\")"
   ]
  },
  {
   "cell_type": "code",
   "execution_count": 0,
   "metadata": {
    "application/vnd.databricks.v1+cell": {
     "cellMetadata": {
      "byteLimit": 2048000,
      "implicitDf": true,
      "rowLimit": 10000
     },
     "inputWidgets": {},
     "nuid": "2fafe29c-8bdd-46e0-8543-399b83e93e81",
     "showTitle": false,
     "title": ""
    }
   },
   "outputs": [
    {
     "output_type": "display_data",
     "data": {
      "text/html": [
       "<style scoped>\n",
       "  .table-result-container {\n",
       "    max-height: 300px;\n",
       "    overflow: auto;\n",
       "  }\n",
       "  table, th, td {\n",
       "    border: 1px solid black;\n",
       "    border-collapse: collapse;\n",
       "  }\n",
       "  th, td {\n",
       "    padding: 5px;\n",
       "  }\n",
       "  th {\n",
       "    text-align: left;\n",
       "  }\n",
       "</style><div class='table-result-container'><table class='table-result'><thead style='background-color: white'><tr><th>cliente_id</th><th>nome_cliente</th></tr></thead><tbody><tr><td>101</td><td>Alice</td></tr><tr><td>103</td><td>Carol</td></tr><tr><td>104</td><td>David</td></tr><tr><td>102</td><td>Bob</td></tr></tbody></table></div>"
      ]
     },
     "metadata": {
      "application/vnd.databricks.v1+output": {
       "addedWidgets": {},
       "aggData": [],
       "aggError": "",
       "aggOverflow": false,
       "aggSchema": [],
       "aggSeriesLimitReached": false,
       "aggType": "",
       "arguments": {},
       "columnCustomDisplayInfos": {},
       "data": [
        [
         101,
         "Alice"
        ],
        [
         103,
         "Carol"
        ],
        [
         104,
         "David"
        ],
        [
         102,
         "Bob"
        ]
       ],
       "datasetInfos": [],
       "dbfsResultPath": null,
       "isJsonSchema": true,
       "metadata": {},
       "overflow": false,
       "plotOptions": {
        "customPlotOptions": {},
        "displayType": "table",
        "pivotAggregation": null,
        "pivotColumns": null,
        "xColumns": null,
        "yColumns": null
       },
       "removedWidgets": [],
       "schema": [
        {
         "metadata": "{}",
         "name": "cliente_id",
         "type": "\"long\""
        },
        {
         "metadata": "{}",
         "name": "nome_cliente",
         "type": "\"string\""
        }
       ],
       "type": "table"
      }
     },
     "output_type": "display_data"
    }
   ],
   "source": [
    "%sql\n",
    "\n",
    "SELECT * FROM BD_ELETRONICOS_VENDAS.CLIENTES;"
   ]
  },
  {
   "cell_type": "code",
   "execution_count": 0,
   "metadata": {
    "application/vnd.databricks.v1+cell": {
     "cellMetadata": {
      "byteLimit": 2048000,
      "rowLimit": 10000
     },
     "inputWidgets": {},
     "nuid": "6faa89da-589c-434a-99d3-d7cec717c02a",
     "showTitle": false,
     "title": ""
    }
   },
   "outputs": [
    {
     "output_type": "display_data",
     "data": {
      "text/html": [
       "<style scoped>\n",
       "  .table-result-container {\n",
       "    max-height: 300px;\n",
       "    overflow: auto;\n",
       "  }\n",
       "  table, th, td {\n",
       "    border: 1px solid black;\n",
       "    border-collapse: collapse;\n",
       "  }\n",
       "  th, td {\n",
       "    padding: 5px;\n",
       "  }\n",
       "  th {\n",
       "    text-align: left;\n",
       "  }\n",
       "</style><div class='table-result-container'><table class='table-result'><thead style='background-color: white'><tr><th>produto</th><th>total_vendido</th></tr></thead><tbody><tr><td>Fone de Ouvido</td><td>6</td></tr><tr><td>Tablet</td><td>3</td></tr><tr><td>Monitor</td><td>3</td></tr></tbody></table></div>"
      ]
     },
     "metadata": {
      "application/vnd.databricks.v1+output": {
       "addedWidgets": {},
       "aggData": [],
       "aggError": "",
       "aggOverflow": false,
       "aggSchema": [],
       "aggSeriesLimitReached": false,
       "aggType": "",
       "arguments": {},
       "columnCustomDisplayInfos": {},
       "data": [
        [
         "Fone de Ouvido",
         6
        ],
        [
         "Tablet",
         3
        ],
        [
         "Monitor",
         3
        ]
       ],
       "datasetInfos": [],
       "dbfsResultPath": null,
       "isJsonSchema": true,
       "metadata": {},
       "overflow": false,
       "plotOptions": {
        "customPlotOptions": {},
        "displayType": "table",
        "pivotAggregation": null,
        "pivotColumns": null,
        "xColumns": null,
        "yColumns": null
       },
       "removedWidgets": [],
       "schema": [
        {
         "metadata": "{}",
         "name": "produto",
         "type": "\"string\""
        },
        {
         "metadata": "{}",
         "name": "total_vendido",
         "type": "\"long\""
        }
       ],
       "type": "table"
      }
     },
     "output_type": "display_data"
    },
    {
     "output_type": "display_data",
     "data": {
      "text/plain": [
       "Databricks visualization. Run in Databricks to view."
      ]
     },
     "metadata": {
      "application/vnd.databricks.v1.subcommand+json": {
       "baseErrorDetails": null,
       "bindings": {},
       "collapsed": false,
       "command": "%python\n__backend_agg_display_orig = display\n__backend_agg_dfs = []\ndef __backend_agg_display_new(df):\n    __backend_agg_df_modules = [\"pandas.core.frame\", \"databricks.koalas.frame\", \"pyspark.sql.dataframe\", \"pyspark.pandas.frame\", \"pyspark.sql.connect.dataframe\"]\n    if (type(df).__module__ in __backend_agg_df_modules and type(df).__name__ == 'DataFrame') or isinstance(df, list):\n        __backend_agg_dfs.append(df)\n\ndisplay = __backend_agg_display_new\n\ndef __backend_agg_user_code_fn():\n    import base64\n    exec(base64.standard_b64decode(\"IyBEZXNjb2JyaW5kbyBvIHByb2R1dG8gbWFpcyB2ZW5kaWRvCmRmX1RvcF9Qcm9kdXRvX1F0ZCA9IGRmX1ZlbmRhc19Mb2phMVwKICAgICAgICAgICAgICAgIC5ncm91cEJ5KCJwcm9kdXRvIilcCiAgICAgICAgICAgICAgICAuYWdnKHN1bSgicXVhbnRpZGFkZSIpLmFsaWFzKCJ0b3RhbF92ZW5kaWRvIikpXAogICAgICAgICAgICAgICAgLm9yZGVyQnkoZGVzYygidG90YWxfdmVuZGlkbyIpKVwKICAgICAgICAgICAgICAgIC5saW1pdCgzKQoKZGZfVG9wX1Byb2R1dG9fUXRkLmRpc3BsYXkoKQoKIyBFeHRyYWlyIG8gdmFsb3IgZG8gcHJvZHV0byBtYWlzIHZlbmRpZG8KcHJvZHV0b19tYWlzX3ZlbmRpZG8gPSBkZl9Ub3BfUHJvZHV0b19RdGQuY29sbGVjdCgpWzBdWyJwcm9kdXRvIl0KCiMgTW9zdHJhciBhIGZyYXNlCnByaW50KGYiTyBwcm9kdXRvIG1haXMgdmVuZGlkbyBmb2kgJ3twcm9kdXRvX21haXNfdmVuZGlkb30nIik=\").decode())\n\ntry:\n    # run user code\n    __backend_agg_user_code_fn()\n\n    #reset display function\n    display = __backend_agg_display_orig\n\n    if len(__backend_agg_dfs) > 0:\n        # create a temp view\n        if type(__backend_agg_dfs[0]).__module__ == \"databricks.koalas.frame\":\n            # koalas dataframe\n            __backend_agg_dfs[0].to_spark().createOrReplaceTempView(\"DatabricksView9c8599b\")\n        elif type(__backend_agg_dfs[0]).__module__ == \"pandas.core.frame\" or isinstance(__backend_agg_dfs[0], list):\n            # pandas dataframe\n            spark.createDataFrame(__backend_agg_dfs[0]).createOrReplaceTempView(\"DatabricksView9c8599b\")\n        else:\n            __backend_agg_dfs[0].createOrReplaceTempView(\"DatabricksView9c8599b\")\n        #run backend agg\n        display(spark.sql(\"\"\"WITH q AS (select * from DatabricksView9c8599b) SELECT `produto`,SUM(`total_vendido`) `column_baaf52766` FROM q GROUP BY `produto`\"\"\"))\n    else:\n        displayHTML(\"dataframe no longer exists. If you're using dataframe.display(), use display(dataframe) instead.\")\n\n\nfinally:\n    spark.sql(\"drop view if exists DatabricksView9c8599b\")\n    display = __backend_agg_display_orig\n    del __backend_agg_display_new\n    del __backend_agg_display_orig\n    del __backend_agg_dfs\n    del __backend_agg_user_code_fn\n\n",
       "commandTitle": "Visualization 1",
       "commandType": "auto",
       "commandVersion": 0,
       "commentThread": [],
       "commentsVisible": false,
       "contentSha256Hex": null,
       "customPlotOptions": {
        "redashChart": [
         {
          "key": "type",
          "value": "CHART"
         },
         {
          "key": "options",
          "value": {
           "alignYAxesAtZero": true,
           "coefficient": 1,
           "columnConfigurationMap": {
            "x": {
             "column": "produto",
             "id": "column_baaf527610"
            },
            "y": [
             {
              "column": "total_vendido",
              "id": "column_baaf52766",
              "transform": "SUM"
             }
            ]
           },
           "dateTimeFormat": "DD/MM/YYYY HH:mm",
           "direction": {
            "type": "counterclockwise"
           },
           "error_y": {
            "type": "data",
            "visible": true
           },
           "globalSeriesType": "combo",
           "hideXAxis": false,
           "hideYAxes": false,
           "isAggregationOn": true,
           "legend": {
            "traceorder": "normal"
           },
           "missingValuesAsZero": true,
           "numberFormat": "0,0.[00000]",
           "percentFormat": "0[.]00%",
           "reverseX": false,
           "series": {
            "error_y": {
             "type": "data",
             "visible": true
            },
            "percentValues": false,
            "stacking": "stack"
           },
           "seriesOptions": {
            "column_baaf52762": {
             "name": "total_vendido",
             "yAxis": 0
            },
            "column_baaf52766": {
             "color": "#356AFF",
             "name": "SUM(total_vendido)",
             "type": "column",
             "yAxis": 0,
             "zIndex": 0
            }
           },
           "showDataLabels": true,
           "sizemode": "diameter",
           "sortX": false,
           "sortY": true,
           "swappedAxes": true,
           "textFormat": "",
           "useAggregationsUi": true,
           "valuesOptions": {},
           "version": 2,
           "xAxis": {
            "labels": {
             "enabled": true
            },
            "type": "-"
           },
           "yAxis": [
            {
             "type": "-"
            },
            {
             "opposite": true,
             "type": "-"
            }
           ]
          }
         }
        ]
       },
       "datasetPreviewNameToCmdIdMap": {},
       "diffDeletes": [],
       "diffInserts": [],
       "displayType": "redashChart",
       "error": null,
       "errorDetails": null,
       "errorSummary": null,
       "errorTraceType": null,
       "finishTime": 0,
       "globalVars": {},
       "guid": "",
       "height": "267",
       "hideCommandCode": false,
       "hideCommandResult": false,
       "iPythonMetadata": null,
       "inputWidgets": {},
       "isLockedInExamMode": false,
       "latestUser": "a user",
       "latestUserId": null,
       "listResultMetadata": null,
       "metadata": {
        "byteLimit": 2048000,
        "rowLimit": 10000
       },
       "nuid": "014d68de-5118-40df-8a58-ba5297a39755",
       "origId": 0,
       "parentHierarchy": [],
       "pivotAggregation": null,
       "pivotColumns": null,
       "position": 5.0,
       "resultDbfsErrorMessage": null,
       "resultDbfsStatus": "INLINED_IN_TREE",
       "results": null,
       "showCommandTitle": false,
       "startTime": 0,
       "state": "finished",
       "streamStates": {},
       "subcommandOptions": {
        "queryPlan": {
         "groups": [
          {
           "column": "produto",
           "type": "column"
          }
         ],
         "selects": [
          {
           "column": "produto",
           "type": "column"
          },
          {
           "alias": "column_baaf52766",
           "args": [
            {
             "column": "total_vendido",
             "type": "column"
            }
           ],
           "function": "SUM",
           "type": "function"
          }
         ]
        }
       },
       "submitTime": 0,
       "subtype": "tableResultSubCmd.visualization",
       "tableResultIndex": 0,
       "useConsistentColors": false,
       "version": "CommandV1",
       "width": "346",
       "workflows": [],
       "xColumns": null,
       "yColumns": null
      }
     },
     "output_type": "display_data"
    },
    {
     "output_type": "stream",
     "name": "stdout",
     "output_type": "stream",
     "text": [
      "O produto mais vendido foi 'Fone de Ouvido'\n"
     ]
    }
   ],
   "source": [
    "# Descobrindo o produto mais vendido\n",
    "df_Top_Produto_Qtd = df_Vendas_Loja1\\\n",
    "                .groupBy(\"produto\")\\\n",
    "                .agg(sum(\"quantidade\").alias(\"total_vendido\"))\\\n",
    "                .orderBy(desc(\"total_vendido\"))\\\n",
    "                .limit(1)\n",
    "\n",
    "df_Top_Produto_Qtd.display()\n",
    "\n",
    "# Extrair o valor do produto mais vendido\n",
    "produto_mais_vendido = df_Top_Produto_Qtd.collect()[0][\"produto\"]\n",
    "\n",
    "# Mostrar a frase\n",
    "print(f\"O produto mais vendido foi '{produto_mais_vendido}'\")"
   ]
  },
  {
   "cell_type": "code",
   "execution_count": 0,
   "metadata": {
    "application/vnd.databricks.v1+cell": {
     "cellMetadata": {
      "byteLimit": 2048000,
      "rowLimit": 10000
     },
     "inputWidgets": {},
     "nuid": "31899901-7675-49f3-93dd-b9de637a1094",
     "showTitle": false,
     "title": ""
    }
   },
   "outputs": [
    {
     "output_type": "display_data",
     "data": {
      "text/html": [
       "<style scoped>\n",
       "  .table-result-container {\n",
       "    max-height: 300px;\n",
       "    overflow: auto;\n",
       "  }\n",
       "  table, th, td {\n",
       "    border: 1px solid black;\n",
       "    border-collapse: collapse;\n",
       "  }\n",
       "  th, td {\n",
       "    padding: 5px;\n",
       "  }\n",
       "  th {\n",
       "    text-align: left;\n",
       "  }\n",
       "</style><div class='table-result-container'><table class='table-result'><thead style='background-color: white'><tr><th>produto</th><th>Valor_Total</th></tr></thead><tbody><tr><td>Notebook</td><td>5000.0</td></tr></tbody></table></div>"
      ]
     },
     "metadata": {
      "application/vnd.databricks.v1+output": {
       "addedWidgets": {},
       "aggData": [],
       "aggError": "",
       "aggOverflow": false,
       "aggSchema": [],
       "aggSeriesLimitReached": false,
       "aggType": "",
       "arguments": {},
       "columnCustomDisplayInfos": {},
       "data": [
        [
         "Notebook",
         5000.0
        ]
       ],
       "datasetInfos": [],
       "dbfsResultPath": null,
       "isJsonSchema": true,
       "metadata": {},
       "overflow": false,
       "plotOptions": {
        "customPlotOptions": {},
        "displayType": "table",
        "pivotAggregation": null,
        "pivotColumns": null,
        "xColumns": null,
        "yColumns": null
       },
       "removedWidgets": [],
       "schema": [
        {
         "metadata": "{}",
         "name": "produto",
         "type": "\"string\""
        },
        {
         "metadata": "{}",
         "name": "Valor_Total",
         "type": "\"double\""
        }
       ],
       "type": "table"
      }
     },
     "output_type": "display_data"
    }
   ],
   "source": [
    "# Descobrindo o produto que mais trouxe faturamento\n",
    "df_Top_Produto_Fat = df_Vendas_Loja1\\\n",
    "                    .groupBy(\"produto\")\\\n",
    "                    .agg((sum(col(\"quantidade\") * col(\"preco_unitario\"))).alias(\"Valor_Total\"))\\\n",
    "                    .orderBy(desc(\"Valor_Total\"))\\\n",
    "                    .limit(1)\n",
    "\n",
    "df_Top_Produto_Fat.display()"
   ]
  },
  {
   "cell_type": "code",
   "execution_count": 0,
   "metadata": {
    "application/vnd.databricks.v1+cell": {
     "cellMetadata": {
      "byteLimit": 2048000,
      "rowLimit": 10000
     },
     "inputWidgets": {},
     "nuid": "2adf9563-bb27-41ab-8696-a8cfa077fe14",
     "showTitle": false,
     "title": ""
    }
   },
   "outputs": [
    {
     "output_type": "display_data",
     "data": {
      "text/html": [
       "<style scoped>\n",
       "  .table-result-container {\n",
       "    max-height: 300px;\n",
       "    overflow: auto;\n",
       "  }\n",
       "  table, th, td {\n",
       "    border: 1px solid black;\n",
       "    border-collapse: collapse;\n",
       "  }\n",
       "  th, td {\n",
       "    padding: 5px;\n",
       "  }\n",
       "  th {\n",
       "    text-align: left;\n",
       "  }\n",
       "</style><div class='table-result-container'><table class='table-result'><thead style='background-color: white'><tr><th>data</th><th>Valor_Total</th></tr></thead><tbody><tr><td>2024-07-01</td><td>5500.0</td></tr></tbody></table></div>"
      ]
     },
     "metadata": {
      "application/vnd.databricks.v1+output": {
       "addedWidgets": {},
       "aggData": [],
       "aggError": "",
       "aggOverflow": false,
       "aggSchema": [],
       "aggSeriesLimitReached": false,
       "aggType": "",
       "arguments": {},
       "columnCustomDisplayInfos": {},
       "data": [
        [
         "2024-07-01",
         5500.0
        ]
       ],
       "datasetInfos": [],
       "dbfsResultPath": null,
       "isJsonSchema": true,
       "metadata": {},
       "overflow": false,
       "plotOptions": {
        "customPlotOptions": {},
        "displayType": "table",
        "pivotAggregation": null,
        "pivotColumns": null,
        "xColumns": null,
        "yColumns": null
       },
       "removedWidgets": [],
       "schema": [
        {
         "metadata": "{}",
         "name": "data",
         "type": "\"string\""
        },
        {
         "metadata": "{}",
         "name": "Valor_Total",
         "type": "\"double\""
        }
       ],
       "type": "table"
      }
     },
     "output_type": "display_data"
    }
   ],
   "source": [
    "\n",
    "# Descobrindo o dia de maior faturamento\n",
    "df_Top_Dia_Fat = df_Vendas_Loja1\\\n",
    "                    .groupBy(\"data\")\\\n",
    "                    .agg((sum(col(\"quantidade\") * col(\"preco_unitario\"))).alias(\"Valor_Total\"))\\\n",
    "                    .orderBy(desc(\"Valor_Total\"))\\\n",
    "                    .limit(1)\n",
    "\n",
    "df_Top_Dia_Fat.display()"
   ]
  },
  {
   "cell_type": "code",
   "execution_count": 0,
   "metadata": {
    "application/vnd.databricks.v1+cell": {
     "cellMetadata": {
      "byteLimit": 2048000,
      "rowLimit": 10000
     },
     "inputWidgets": {},
     "nuid": "a665611b-29d4-47f5-b62c-eadd6840c8c8",
     "showTitle": false,
     "title": ""
    }
   },
   "outputs": [
    {
     "output_type": "stream",
     "name": "stdout",
     "output_type": "stream",
     "text": [
      "Dia de maior faturamento: 2024-07-01 e o faturamento foi de R$ 5500.0\n+----------+--------+----------------+-----------+-----------+\n|      data| produto|Total_Quantidade|Total_Valor|Preco_Medio|\n+----------+--------+----------------+-----------+-----------+\n|2024-07-01| Celular|               2|     3000.0|     1500.0|\n|2024-07-01|Notebook|               1|     2500.0|     2500.0|\n+----------+--------+----------------+-----------+-----------+\n\n"
     ]
    }
   ],
   "source": [
    "# Mostrando o dia de maior faturamento, os itens que ajudaram a alcançar essa marca, suas quantidades e seus preços médios\n",
    "\n",
    "# Coletando o resultado do dia de maior faturamento\n",
    "top_dia_fat = df_Top_Dia_Fat.collect()[0]\n",
    "\n",
    "# Obtendo o dia de maior faturamento e o valor total faturado\n",
    "dia_maior_faturamento = top_dia_fat[\"data\"]\n",
    "total_faturado = top_dia_fat[\"Valor_Total\"]\n",
    "\n",
    "# Filtrando os produtos vendidos apenas no dia de maior faturamento\n",
    "produtos_maior_faturamento = df_Vendas_Loja1\\\n",
    "    .filter(col(\"data\") == dia_maior_faturamento)\\\n",
    "    .groupBy(\"data\", \"produto\")\\\n",
    "    .agg(sum(\"quantidade\").alias(\"Total_Quantidade\"), \n",
    "         sum(col(\"quantidade\") * col(\"preco_unitario\")).alias(\"Total_Valor\"),\n",
    "         avg(\"preco_unitario\").alias(\"Preco_Medio\"))\\\n",
    "    .orderBy(desc(\"Total_Quantidade\"))\n",
    "\n",
    "# Mostrar os detalhes dos produtos vendidos no dia de maior faturamento\n",
    "print(f\"Dia de maior faturamento: {dia_maior_faturamento} e o faturamento foi de R$ {total_faturado}\")\n",
    "produtos_maior_faturamento.show()"
   ]
  },
  {
   "cell_type": "code",
   "execution_count": 0,
   "metadata": {
    "application/vnd.databricks.v1+cell": {
     "cellMetadata": {
      "byteLimit": 2048000,
      "rowLimit": 10000
     },
     "inputWidgets": {},
     "nuid": "0d3fb135-c025-4daf-8177-d293f09c5078",
     "showTitle": false,
     "title": ""
    }
   },
   "outputs": [
    {
     "output_type": "display_data",
     "data": {
      "text/html": [
       "<style scoped>\n",
       "  .table-result-container {\n",
       "    max-height: 300px;\n",
       "    overflow: auto;\n",
       "  }\n",
       "  table, th, td {\n",
       "    border: 1px solid black;\n",
       "    border-collapse: collapse;\n",
       "  }\n",
       "  th, td {\n",
       "    padding: 5px;\n",
       "  }\n",
       "  th {\n",
       "    text-align: left;\n",
       "  }\n",
       "</style><div class='table-result-container'><table class='table-result'><thead style='background-color: white'><tr><th>cliente_id</th><th>id</th><th>data</th><th>produto</th><th>quantidade</th><th>preco_unitario</th><th>preco_total</th><th>País_cliente</th><th>Atualizacao</th><th>nome_cliente</th></tr></thead><tbody><tr><td>104</td><td>8</td><td>2024-07-07</td><td>Fone de Ouvido</td><td>2</td><td>200.0</td><td>400.0</td><td>Reino Unido</td><td>2024-07-13 12: 49: 18</td><td>David</td></tr><tr><td>102</td><td>9</td><td>2024-07-07</td><td>Monitor</td><td>1</td><td>1200.0</td><td>1200.0</td><td>Brasil</td><td>2024-07-13 12: 49: 18</td><td>Bob</td></tr><tr><td>104</td><td>5</td><td>2024-07-05</td><td>Fone de Ouvido</td><td>2</td><td>200.0</td><td>400.0</td><td>Brasil</td><td>2024-07-13 12: 49: 18</td><td>David</td></tr><tr><td>102</td><td>6</td><td>2024-07-06</td><td>Monitor</td><td>1</td><td>1200.0</td><td>1200.0</td><td>Reino Unido</td><td>2024-07-13 12: 49: 18</td><td>Bob</td></tr><tr><td>102</td><td>2</td><td>2024-07-02</td><td>Notebook</td><td>1</td><td>2500.0</td><td>2500.0</td><td>Estados Unidos</td><td>2024-07-13 12: 49: 18</td><td>Bob</td></tr><tr><td>103</td><td>3</td><td>2024-07-03</td><td>Tablet</td><td>3</td><td>800.0</td><td>2400.0</td><td>França</td><td>2024-07-13 12: 49: 18</td><td>Carol</td></tr><tr><td>104</td><td>11</td><td>2024-07-07</td><td>Fone de Ouvido</td><td>2</td><td>200.0</td><td>400.0</td><td>França</td><td>2024-07-13 12: 49: 18</td><td>David</td></tr><tr><td>101</td><td>12</td><td>2024-07-01</td><td>Notebook</td><td>1</td><td>2500.0</td><td>2500.0</td><td>China</td><td>2024-07-13 12: 49: 18</td><td>Alice</td></tr><tr><td>102</td><td>10</td><td>2024-07-08</td><td>Monitor</td><td>1</td><td>1200.0</td><td>1200.0</td><td>Estados Unidos</td><td>2024-07-13 12: 49: 18</td><td>Bob</td></tr><tr><td>101</td><td>4</td><td>2024-07-04</td><td>Smartwatch</td><td>1</td><td>600.0</td><td>600.0</td><td>Brasil</td><td>2024-07-13 12: 49: 18</td><td>Alice</td></tr><tr><td>101</td><td>7</td><td>2024-07-07</td><td>Smartwatch</td><td>1</td><td>600.0</td><td>600.0</td><td>China</td><td>2024-07-13 12: 49: 18</td><td>Alice</td></tr><tr><td>101</td><td>1</td><td>2024-07-01</td><td>Celular</td><td>2</td><td>1500.0</td><td>3000.0</td><td>Alemanha</td><td>2024-07-13 12: 49: 18</td><td>Alice</td></tr></tbody></table></div>"
      ]
     },
     "metadata": {
      "application/vnd.databricks.v1+output": {
       "addedWidgets": {},
       "aggData": [],
       "aggError": "",
       "aggOverflow": false,
       "aggSchema": [],
       "aggSeriesLimitReached": false,
       "aggType": "",
       "arguments": {},
       "columnCustomDisplayInfos": {},
       "data": [
        [
         104,
         8,
         "2024-07-07",
         "Fone de Ouvido",
         2,
         200.0,
         400.0,
         "Reino Unido",
         "2024-07-13 12: 49: 18",
         "David"
        ],
        [
         102,
         9,
         "2024-07-07",
         "Monitor",
         1,
         1200.0,
         1200.0,
         "Brasil",
         "2024-07-13 12: 49: 18",
         "Bob"
        ],
        [
         104,
         5,
         "2024-07-05",
         "Fone de Ouvido",
         2,
         200.0,
         400.0,
         "Brasil",
         "2024-07-13 12: 49: 18",
         "David"
        ],
        [
         102,
         6,
         "2024-07-06",
         "Monitor",
         1,
         1200.0,
         1200.0,
         "Reino Unido",
         "2024-07-13 12: 49: 18",
         "Bob"
        ],
        [
         102,
         2,
         "2024-07-02",
         "Notebook",
         1,
         2500.0,
         2500.0,
         "Estados Unidos",
         "2024-07-13 12: 49: 18",
         "Bob"
        ],
        [
         103,
         3,
         "2024-07-03",
         "Tablet",
         3,
         800.0,
         2400.0,
         "França",
         "2024-07-13 12: 49: 18",
         "Carol"
        ],
        [
         104,
         11,
         "2024-07-07",
         "Fone de Ouvido",
         2,
         200.0,
         400.0,
         "França",
         "2024-07-13 12: 49: 18",
         "David"
        ],
        [
         101,
         12,
         "2024-07-01",
         "Notebook",
         1,
         2500.0,
         2500.0,
         "China",
         "2024-07-13 12: 49: 18",
         "Alice"
        ],
        [
         102,
         10,
         "2024-07-08",
         "Monitor",
         1,
         1200.0,
         1200.0,
         "Estados Unidos",
         "2024-07-13 12: 49: 18",
         "Bob"
        ],
        [
         101,
         4,
         "2024-07-04",
         "Smartwatch",
         1,
         600.0,
         600.0,
         "Brasil",
         "2024-07-13 12: 49: 18",
         "Alice"
        ],
        [
         101,
         7,
         "2024-07-07",
         "Smartwatch",
         1,
         600.0,
         600.0,
         "China",
         "2024-07-13 12: 49: 18",
         "Alice"
        ],
        [
         101,
         1,
         "2024-07-01",
         "Celular",
         2,
         1500.0,
         3000.0,
         "Alemanha",
         "2024-07-13 12: 49: 18",
         "Alice"
        ]
       ],
       "datasetInfos": [],
       "dbfsResultPath": null,
       "isJsonSchema": true,
       "metadata": {},
       "overflow": false,
       "plotOptions": {
        "customPlotOptions": {},
        "displayType": "table",
        "pivotAggregation": null,
        "pivotColumns": null,
        "xColumns": null,
        "yColumns": null
       },
       "removedWidgets": [],
       "schema": [
        {
         "metadata": "{}",
         "name": "cliente_id",
         "type": "\"long\""
        },
        {
         "metadata": "{}",
         "name": "id",
         "type": "\"long\""
        },
        {
         "metadata": "{}",
         "name": "data",
         "type": "\"string\""
        },
        {
         "metadata": "{}",
         "name": "produto",
         "type": "\"string\""
        },
        {
         "metadata": "{}",
         "name": "quantidade",
         "type": "\"long\""
        },
        {
         "metadata": "{}",
         "name": "preco_unitario",
         "type": "\"double\""
        },
        {
         "metadata": "{}",
         "name": "preco_total",
         "type": "\"double\""
        },
        {
         "metadata": "{}",
         "name": "País_cliente",
         "type": "\"string\""
        },
        {
         "metadata": "{}",
         "name": "Atualizacao",
         "type": "\"string\""
        },
        {
         "metadata": "{}",
         "name": "nome_cliente",
         "type": "\"string\""
        }
       ],
       "type": "table"
      }
     },
     "output_type": "display_data"
    }
   ],
   "source": [
    "# MESCLA DE TABELAS\n",
    "\n",
    "#Tabela \"Clientes\" (Dimensão)\n",
    "df_clientes = spark.read.table(\"BD_ELETRONICOS_VENDAS.CLIENTES\")\n",
    "\n",
    "# tabela \"Vendas\" (Fato)\n",
    "df_Vendas_Loja1 = spark.read.table(\"BD_ELETRONICOS_VENDAS.Vendas_Eletronicos_Loja1\")\n",
    "\n",
    "# Fazendo a mescla (left join) para a nova tabela ter todas as informações de vendas + nome dos clientes\n",
    "df_tabela_consolidada = df_Vendas_Loja1.join(df_clientes, on='cliente_id', how='left')\n",
    "\n",
    "# Mostrando o resultado\n",
    "display(df_tabela_consolidada)"
   ]
  },
  {
   "cell_type": "code",
   "execution_count": 0,
   "metadata": {
    "application/vnd.databricks.v1+cell": {
     "cellMetadata": {
      "byteLimit": 2048000,
      "rowLimit": 10000
     },
     "inputWidgets": {},
     "nuid": "c5e955a5-7c82-4dbd-b012-ab1c31dc9221",
     "showTitle": false,
     "title": ""
    }
   },
   "outputs": [
    {
     "output_type": "stream",
     "name": "stdout",
     "output_type": "stream",
     "text": [
      "+------------+-----------+\n|nome_cliente|Total_Valor|\n+------------+-----------+\n|       Alice|     6700.0|\n|         Bob|     6100.0|\n|       Carol|     2400.0|\n|       David|     1200.0|\n+------------+-----------+\n\n"
     ]
    }
   ],
   "source": [
    "# Descobrindo o nome do cliente que mais gastou $$$\n",
    "\n",
    "df_cliente_mais_rentavel = df_tabela_consolidada\\\n",
    "    .groupBy(df_tabela_consolidada.nome_cliente)\\\n",
    "    .agg(sum(col(\"quantidade\") * col(\"preco_unitario\")).alias(\"Total_Valor\"))\\\n",
    "    .orderBy(desc(\"Total_Valor\"))#\\\n",
    "    #.limit(1)\n",
    "\n",
    "df_cliente_mais_rentavel.show(5)"
   ]
  }
 ],
 "metadata": {
  "application/vnd.databricks.v1+notebook": {
   "dashboards": [],
   "environmentMetadata": null,
   "language": "python",
   "notebookMetadata": {
    "mostRecentlyExecutedCommandWithImplicitDF": {
     "commandId": 2890254798948262,
     "dataframes": [
      "_sqldf"
     ]
    },
    "pythonIndentUnit": 4
   },
   "notebookName": "Projeto - Vendas de Produtos Eletrônicos",
   "widgets": {}
  }
 },
 "nbformat": 4,
 "nbformat_minor": 0
}
